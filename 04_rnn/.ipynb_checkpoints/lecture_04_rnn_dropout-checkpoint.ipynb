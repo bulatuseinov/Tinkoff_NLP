{
 "cells": [
  {
   "cell_type": "markdown",
   "metadata": {},
   "source": [
    "<img src='https://i.gifer.com/Hxp8.gif'>"
   ]
  },
  {
   "cell_type": "markdown",
   "metadata": {},
   "source": [
    "<b>Train:</b> <br>\n",
    "I want to feed the cat <br>\n",
    "I want to give food to the cat <br>\n",
    "\n",
    "I want to give food to the dog <br>\n",
    "What should i buy for my dog <br>"
   ]
  },
  {
   "cell_type": "markdown",
   "metadata": {},
   "source": [
    "<b>Test: </b> <br>\n",
    "I have to make sure when I get home to feed the <b>(?)</b> <br><br>\n",
    "<b>Какое слово стоит на последнем месте?</b> <br><br><br><br>"
   ]
  },
  {
   "cell_type": "markdown",
   "metadata": {},
   "source": [
    "<img src='https://raw.githubusercontent.com/fogside/fintech_dev/master/spring_2019/04_rnn_dropout/ffnnlm.PNG?token=AgsinFYs1aVRT4mJYmn5_zbunb4EWMR2ks5cf3WdwA%3D%3D' width='60%'>"
   ]
  },
  {
   "cell_type": "markdown",
   "metadata": {},
   "source": [
    "\\begin{align}\n",
    "\\begin{aligned}\n",
    "x &= (x_1, ..., x_n) \\\\\n",
    "h &= \\sigma(Wx + b) \\\\\n",
    "z &= Uh \\\\\n",
    "y &= softmax(z)\n",
    "\\end{aligned}\n",
    "\\end{align}"
   ]
  },
  {
   "cell_type": "markdown",
   "metadata": {},
   "source": [
    "<b>Проблемы с таким подходом?</b> <br><br><br><br>"
   ]
  },
  {
   "cell_type": "markdown",
   "metadata": {},
   "source": [
    "<ol>\n",
    "<li> Ограничение на величину контекста, откуда можно извлечь информацию\n",
    "<li> Одно и то же слово появляется в сочетании с разными словами\n",
    "</ol>"
   ]
  },
  {
   "cell_type": "markdown",
   "metadata": {},
   "source": [
    "<img src='https://cdn-images-1.medium.com/max/800/1*XosBFfduA1cZB340SSL1hg.png'>"
   ]
  },
  {
   "cell_type": "markdown",
   "metadata": {},
   "source": [
    "<br>"
   ]
  },
  {
   "cell_type": "markdown",
   "metadata": {},
   "source": [
    "<img src='https://i.makeagif.com/media/3-18-2018/RX_jMs.gif'>"
   ]
  },
  {
   "cell_type": "markdown",
   "metadata": {},
   "source": [
    "<br>"
   ]
  },
  {
   "cell_type": "markdown",
   "metadata": {},
   "source": [
    "<img src='https://cdn-images-1.medium.com/max/800/1*W51n2gqbRiAxIeL4E7phrw.jpeg'>"
   ]
  },
  {
   "cell_type": "markdown",
   "metadata": {},
   "source": [
    "<h2>RNN</h2>"
   ]
  },
  {
   "cell_type": "markdown",
   "metadata": {},
   "source": [
    "<img src='https://encrypted-tbn0.gstatic.com/images?q=tbn:ANd9GcTXtntNXAvo7R2P4C_Neq0ljDyhabivSEM_ua_RL_C_hqSYSkE5cw'>"
   ]
  },
  {
   "cell_type": "markdown",
   "metadata": {},
   "source": [
    "<h3>\n",
    "\\begin{align}\n",
    "\\begin{aligned}\n",
    "h_t = f_w(h_{t-1}, x_t)\n",
    "\\end{aligned}\n",
    "\\end{align}\n",
    "</h3>\n",
    "! Та же функция и тот же набор параметров используются в разные моменты времени"
   ]
  },
  {
   "cell_type": "markdown",
   "metadata": {},
   "source": [
    "<br><br>"
   ]
  },
  {
   "cell_type": "markdown",
   "metadata": {},
   "source": [
    "<img src='https://raw.githubusercontent.com/fogside/fintech_dev/master/spring_2019/04_rnn_dropout/one_rnn_cell.PNG?token=AgsinKGQ6rtxJv8kN_aVMwy437l-ZPKvks5cf3XcwA%3D%3D'>"
   ]
  },
  {
   "cell_type": "markdown",
   "metadata": {},
   "source": [
    "<img src='https://raw.githubusercontent.com/fogside/fintech_dev/master/spring_2019/04_rnn_dropout/many_rnn_cells.PNG?token=AgsinFXw3SM0g9vHB6ZZ3akx6vkBNER7ks5cf3XbwA%3D%3D'>"
   ]
  },
  {
   "cell_type": "markdown",
   "metadata": {},
   "source": [
    "<img src='https://raw.githubusercontent.com/fogside/fintech_dev/master/spring_2019/04_rnn_dropout/many_rnn_cells_with_w.PNG?token=AgsinLEj215b735IHiUfWfuNn_qqjmHGks5cf3XbwA%3D%3D'>"
   ]
  },
  {
   "cell_type": "markdown",
   "metadata": {},
   "source": [
    "<br><br>"
   ]
  },
  {
   "cell_type": "markdown",
   "metadata": {},
   "source": [
    "<img src='https://raw.githubusercontent.com/fogside/fintech_dev/master/spring_2019/04_rnn_dropout/rnn_sentiment_analysis.PNG?token=AgsinPVVhbqAzntwFrepoGvB3hIVMcUwks5cf3XdwA%3D%3D'>"
   ]
  },
  {
   "cell_type": "markdown",
   "metadata": {},
   "source": [
    "<br>"
   ]
  },
  {
   "cell_type": "markdown",
   "metadata": {},
   "source": [
    "<h2>Vanilla RNN</h2>"
   ]
  },
  {
   "cell_type": "markdown",
   "metadata": {},
   "source": [
    "<h3>\n",
    "\\begin{align}\n",
    "\\begin{aligned}\n",
    "h_t = f_w(h_{t-1}, x_t)\n",
    "\\end{aligned}\n",
    "\\end{align}\n",
    "</h3>\n",
    "<b>Какую функцию можно использовать вместо f_w?</b>"
   ]
  },
  {
   "cell_type": "markdown",
   "metadata": {},
   "source": [
    "<br><br>"
   ]
  },
  {
   "cell_type": "markdown",
   "metadata": {},
   "source": [
    "<h3>\n",
    "\\begin{align}\n",
    "\\begin{aligned}\n",
    "h_t &= \\phi(W_{hh}h_{t-1} + W_{xh}x_t + b)\n",
    "\\end{aligned}\n",
    "\\end{align}\n",
    "</h3>"
   ]
  },
  {
   "cell_type": "markdown",
   "metadata": {},
   "source": [
    "<h3>\n",
    "\\begin{align}\n",
    "\\begin{aligned}\n",
    "h_t &= tanh(W_{hh}h_{t-1} + W_{xh}x_t) \\\\\n",
    "y_t &= W_{hy}h_t\n",
    "\\end{aligned}\n",
    "\\end{align}\n",
    "</h3>"
   ]
  },
  {
   "cell_type": "markdown",
   "metadata": {},
   "source": [
    "<img src='https://betanews.com/wp-content/uploads/2017/06/reinvent-wheel.jpg' width='50%' height='50%'>"
   ]
  },
  {
   "cell_type": "code",
   "execution_count": null,
   "metadata": {
    "collapsed": true
   },
   "outputs": [],
   "source": [
    "import numpy as np\n",
    "import pandas as pd\n",
    "import tensorflow as tf\n",
    "import os"
   ]
  },
  {
   "cell_type": "code",
   "execution_count": null,
   "metadata": {
    "collapsed": true
   },
   "outputs": [],
   "source": [
    "# for the sake of reproducibility \n",
    "\n",
    "def reset_graph(seed=42):\n",
    "    tf.reset_default_graph()\n",
    "    tf.set_random_seed(seed)\n",
    "    np.random.seed(seed)"
   ]
  },
  {
   "cell_type": "code",
   "execution_count": null,
   "metadata": {
    "scrolled": true
   },
   "outputs": [],
   "source": [
    "reset_graph()\n",
    "\n",
    "n_features = 3\n",
    "n_neurons = 5\n",
    "\n",
    "# two time steps\n",
    "X0 = # your code here\n",
    "X1 = # your code here\n",
    "\n",
    "Wx = tf.Variable(tf.random_normal(shape=[\"\"\"your code here\"\"\"], dtype=tf.float32))\n",
    "Wy = tf.Variable(tf.random_normal(shape=[\"\"\"your code here\"\"\"], dtype=tf.float32))\n",
    "b = tf.Variable(tf.zeros([1, n_neurons], dtype=tf.float32))\n",
    "\n",
    "# tanh as phi\n",
    "Y0 = tf.tanh(tf.matmul(X0, Wx) + b)\n",
    "Y1 = # your code here\n",
    "\n",
    "init = tf.global_variables_initializer()"
   ]
  },
  {
   "cell_type": "code",
   "execution_count": null,
   "metadata": {
    "collapsed": true
   },
   "outputs": [],
   "source": [
    "# mini-batches of size 4\n",
    "X0_batch = np.array([[0, 1, 2], [3, 4, 5], [6, 7, 8], [9, 0, 1]])  # t = 0\n",
    "X1_batch = np.array([[9, 8, 7], [0, 0, 0], [6, 5, 4], [3, 2, 1]])  # t = 1\n",
    "\n",
    "with tf.Session() as sess:\n",
    "    init.run()\n",
    "    Y0_val, Y1_val = sess.run([Y0, Y1], feed_dict={X0: X0_batch, X1: X1_batch})"
   ]
  },
  {
   "cell_type": "code",
   "execution_count": null,
   "metadata": {},
   "outputs": [],
   "source": [
    "Y0_val"
   ]
  },
  {
   "cell_type": "code",
   "execution_count": null,
   "metadata": {
    "scrolled": false
   },
   "outputs": [],
   "source": [
    "Y1_val"
   ]
  },
  {
   "cell_type": "markdown",
   "metadata": {},
   "source": [
    "<img src='https://www.uxmas.com/images/uploads/wheelsinc.jpg' width='70%' height='70%'>"
   ]
  },
  {
   "cell_type": "code",
   "execution_count": null,
   "metadata": {},
   "outputs": [],
   "source": [
    "reset_graph()\n",
    "\n",
    "n_features = 3\n",
    "n_steps = 2\n",
    "n_neurons = 5\n",
    "\n",
    "# rnn model\n",
    "X = tf.placeholder(tf.float32, [None, n_steps, n_features])\n",
    "\n",
    "cell = tf.nn.rnn_cell.BasicRNNCell(num_units=n_neurons)\n",
    "output, state = tf.nn.dynamic_rnn(cell, X, dtype=tf.float32)\n",
    "\n",
    "init = tf.global_variables_initializer()"
   ]
  },
  {
   "cell_type": "code",
   "execution_count": null,
   "metadata": {
    "collapsed": true
   },
   "outputs": [],
   "source": [
    "X_batch = np.hstack([X0_batch[:, np.newaxis, :], X1_batch[:, np.newaxis, :]])\n",
    "\n",
    "with tf.Session() as sess:\n",
    "    init.run()\n",
    "    output = sess.run(output, feed_dict={X: X_batch})"
   ]
  },
  {
   "cell_type": "code",
   "execution_count": null,
   "metadata": {
    "scrolled": true
   },
   "outputs": [],
   "source": [
    "output"
   ]
  },
  {
   "cell_type": "markdown",
   "metadata": {},
   "source": [
    "<b>Покажем, что ячейка Vanilla RNN похожа на один слой FFNN</b> <br>\n",
    "Дано: <br>\n",
    "n = 2 - размер вектора скрытого слоя <br>\n",
    "m = 3 - размер входного вектора <br>\n",
    "$W_{hh} = W$ <br>\n",
    "$W_{xh} = U$ <br>"
   ]
  },
  {
   "cell_type": "markdown",
   "metadata": {},
   "source": [
    "<h4>Backpropagation through time</h4>"
   ]
  },
  {
   "cell_type": "markdown",
   "metadata": {},
   "source": [
    "<img src='https://github.com/fogside/fintech_dev/blob/master/spring_2019/04_rnn_dropout/backprop_through_time.PNG?raw=true'>"
   ]
  },
  {
   "cell_type": "markdown",
   "metadata": {},
   "source": [
    "<b>Какие проблемы могут возникнуть?</b>"
   ]
  },
  {
   "cell_type": "markdown",
   "metadata": {},
   "source": [
    "<br>"
   ]
  },
  {
   "cell_type": "markdown",
   "metadata": {},
   "source": [
    "<b>Какое решение можно предложить?</b>"
   ]
  },
  {
   "cell_type": "markdown",
   "metadata": {},
   "source": [
    "<br><br>"
   ]
  },
  {
   "cell_type": "markdown",
   "metadata": {},
   "source": [
    "<h4>Truncated Backpropagation through time</h4>"
   ]
  },
  {
   "cell_type": "markdown",
   "metadata": {},
   "source": [
    "<img src='https://raw.githubusercontent.com/fogside/fintech_dev/master/spring_2019/04_rnn_dropout/trunked_backprop_through_time.PNG?token=AgsinLY0GxLfNNCMZKCeUt6D1WW-DNpoks5cf3XewA%3D%3D'>"
   ]
  },
  {
   "cell_type": "markdown",
   "metadata": {},
   "source": [
    "<h3>\n",
    "\\begin{align}\n",
    "\\begin{aligned}\n",
    "h_t &= tanh(W[\\begin{matrix}h_{t-1}\\\\x_t\\end{matrix}])\n",
    "\\end{aligned}\n",
    "\\end{align}\n",
    "</h3>"
   ]
  },
  {
   "cell_type": "markdown",
   "metadata": {},
   "source": [
    "<img src='https://raw.githubusercontent.com/fogside/fintech_dev/master/spring_2019/04_rnn_dropout/vanilla_rnn_back.PNG?token=AgsinLfoDUxtg1gZ0foiMUmMKcThyTNIks5cf3XfwA%3D%3D'>"
   ]
  },
  {
   "cell_type": "markdown",
   "metadata": {},
   "source": [
    "<b>Как вычисляется backpropagation для линейного слоя?</b> <br>\n",
    "Дано: <br>\n",
    "$Y = XW$ <br>\n",
    "$L$ - функция потерь <br>\n",
    "Известно $\\frac{dL}{dY}$ <br>\n",
    "Найти: <br>\n",
    "$\\frac{dL}{dX}$ и $\\frac{dL}{dW}$ <br>"
   ]
  },
  {
   "cell_type": "markdown",
   "metadata": {
    "collapsed": true
   },
   "source": [
    "http://cs231n.stanford.edu/handouts/linear-backprop.pdf"
   ]
  },
  {
   "cell_type": "markdown",
   "metadata": {},
   "source": [
    "<img src='https://raw.githubusercontent.com/fogside/fintech_dev/master/spring_2019/04_rnn_dropout/vanilla_rnns_back.PNG?token=AgsinE7OM3qYoDd1QAKuxT2EdIXfOa-Jks5cf3XgwA%3D%3D'>"
   ]
  },
  {
   "cell_type": "markdown",
   "metadata": {},
   "source": [
    "<b>Какие могут возникнуть проблемы?</b>"
   ]
  },
  {
   "cell_type": "markdown",
   "metadata": {},
   "source": [
    "<br><br>"
   ]
  },
  {
   "cell_type": "markdown",
   "metadata": {
    "collapsed": true
   },
   "source": [
    "<ul>\n",
    "<li> Наибольшее сингулярное число матрицы W > 1 --> взрыв градиента\n",
    "<li>Наибольшее сингулярное число матрицы W < 1 --> затухание градиента\n",
    "</ul>"
   ]
  },
  {
   "cell_type": "markdown",
   "metadata": {},
   "source": [
    "<h3>Взрыв градиента</h3> <br>\n",
    "<img src='https://i.chzbgr.com/full/8235382528/h80588349/'>\n",
    "<br><br>\n",
    "<b>Решение:</b> gradient clipping\n",
    "<img src='https://qph.fs.quoracdn.net/main-qimg-d0f12f2e19359820bfa909467a928141.webp'>\n",
    "<br>\n",
    "<img src='https://3.bp.blogspot.com/-IXaQmQ38taY/WV363FK3GqI/AAAAAAAAFSg/VGDL247YF4Eq0Sr4kL8EeRORXhihCcrDACLcBGAs/s1600/norm_clipping.png'>"
   ]
  },
  {
   "cell_type": "markdown",
   "metadata": {},
   "source": [
    "<h3>Затухание градиента</h3> <br>\n",
    "<img src='https://media.tenor.com/images/58cde3f79c7d74bf58ffba202dd19ee3/tenor.gif'>\n",
    "<br><br>\n",
    "<b>Решение:</b> Изменение архитектуры"
   ]
  },
  {
   "cell_type": "markdown",
   "metadata": {},
   "source": [
    "<h2>LSTM</h2>"
   ]
  },
  {
   "cell_type": "markdown",
   "metadata": {},
   "source": [
    "<img src='http://colah.github.io/posts/2015-08-Understanding-LSTMs/img/LSTM3-SimpleRNN.png'>"
   ]
  },
  {
   "cell_type": "markdown",
   "metadata": {
    "collapsed": true
   },
   "source": [
    "<img src='http://iflex.com/blog/wp-content/uploads/2018/07/Upgrade.jpeg' width=\"60%\" height=\"60%\">"
   ]
  },
  {
   "cell_type": "markdown",
   "metadata": {},
   "source": [
    "<img src='http://colah.github.io/posts/2015-08-Understanding-LSTMs/img/LSTM3-chain.png'>"
   ]
  },
  {
   "cell_type": "markdown",
   "metadata": {},
   "source": [
    "<img src='https://media.tenor.com/images/8d793b41eb1fd5e6502c3776fc3c2d06/tenor.gif' width=\"30%\" height=\"30%\">"
   ]
  },
  {
   "cell_type": "markdown",
   "metadata": {},
   "source": [
    "<img src='http://colah.github.io/posts/2015-08-Understanding-LSTMs/img/LSTM3-C-line.png'>"
   ]
  },
  {
   "cell_type": "markdown",
   "metadata": {},
   "source": [
    "<img src='http://colah.github.io/posts/2015-08-Understanding-LSTMs/img/LSTM3-focus-f.png'>"
   ]
  },
  {
   "cell_type": "markdown",
   "metadata": {},
   "source": [
    "<img src='http://colah.github.io/posts/2015-08-Understanding-LSTMs/img/LSTM3-focus-i.png'>"
   ]
  },
  {
   "cell_type": "markdown",
   "metadata": {},
   "source": [
    "<img src='http://colah.github.io/posts/2015-08-Understanding-LSTMs/img/LSTM3-focus-C.png'>"
   ]
  },
  {
   "cell_type": "markdown",
   "metadata": {},
   "source": [
    "<img src='http://colah.github.io/posts/2015-08-Understanding-LSTMs/img/LSTM3-focus-o.png'>"
   ]
  },
  {
   "cell_type": "markdown",
   "metadata": {},
   "source": [
    "\\begin{aligned}\n",
    "f_{t}&=\\sigma _{g}(W_{f}x_{t}+U_{f}h_{t-1}+b_{f}) \\\\\n",
    "i_{t}&=\\sigma _{g}(W_{i}x_{t}+U_{i}h_{t-1}+b_{i}) \\\\\n",
    "o_{t}&=\\sigma _{g}(W_{o}x_{t}+U_{o}h_{t-1}+b_{o}) \\\\\n",
    "c_{t}&=f_{t}\\circ c_{t-1}+i_{t}\\circ \\sigma _{c}(W_{c}x_{t}+U_{c}h_{t-1}+b_{c}) \\\\\n",
    "h_{t}&=o_{t}\\circ \\sigma _{h}(c_{t})\n",
    "\\end{aligned}"
   ]
  },
  {
   "cell_type": "markdown",
   "metadata": {},
   "source": [
    "<br><br><br><br>\n",
    "<b>В чем польза использования tanh как функции активации?</b>\n",
    "<br><br><br><br>"
   ]
  },
  {
   "cell_type": "markdown",
   "metadata": {},
   "source": [
    "<br><br><br><br>\n",
    "<img src='https://cdn-images-1.medium.com/max/1600/1*iRlEg1GBKRzGTre5aOQUCg.gif' width=\"70%\" height=\"70%\">"
   ]
  },
  {
   "cell_type": "markdown",
   "metadata": {},
   "source": [
    "<br>"
   ]
  },
  {
   "cell_type": "markdown",
   "metadata": {},
   "source": [
    "<img src='https://cdn-images-1.medium.com/max/1600/1*LgbEFcGiUpseZ--M7wuZhg.gif' width=\"70%\" height=\"70%\">"
   ]
  },
  {
   "cell_type": "markdown",
   "metadata": {},
   "source": [
    "<br>"
   ]
  },
  {
   "cell_type": "markdown",
   "metadata": {},
   "source": [
    "<img src='https://cdn-images-1.medium.com/max/1600/1*gFC2bTg3uihp1klknWU0qg.gif' width=\"70%\" height=\"70%\">"
   ]
  },
  {
   "cell_type": "markdown",
   "metadata": {},
   "source": [
    "### Варианты LSTM"
   ]
  },
  {
   "cell_type": "markdown",
   "metadata": {},
   "source": [
    "<img src='https://media1.tenor.com/images/ec993f9c09cff9d21e62482cbeed8262/tenor.gif?itemid=10344359'>"
   ]
  },
  {
   "cell_type": "markdown",
   "metadata": {},
   "source": [
    "<img src='http://colah.github.io/posts/2015-08-Understanding-LSTMs/img/LSTM3-var-peepholes.png'>"
   ]
  },
  {
   "cell_type": "markdown",
   "metadata": {},
   "source": [
    "<img src='http://colah.github.io/posts/2015-08-Understanding-LSTMs/img/LSTM3-var-tied.png'>"
   ]
  },
  {
   "cell_type": "markdown",
   "metadata": {},
   "source": [
    "<h2>GRU</h2>"
   ]
  },
  {
   "cell_type": "markdown",
   "metadata": {
    "collapsed": true
   },
   "source": [
    "<img src='https://media1.tenor.com/images/59c24c85451ec07de13435ba7259b8c0/tenor.gif?itemid=8051848' width=\"50%\" height=\"50%\">"
   ]
  },
  {
   "cell_type": "markdown",
   "metadata": {
    "collapsed": true
   },
   "source": [
    "<img src='http://colah.github.io/posts/2015-08-Understanding-LSTMs/img/LSTM3-var-GRU.png'>"
   ]
  },
  {
   "cell_type": "markdown",
   "metadata": {},
   "source": [
    "\\begin{aligned}\n",
    "z_{t}&=\\sigma _{g}(W_{z}x_{t}+U_{z}h_{t-1}+b_{z}) \\\\\n",
    "r_{t}&=\\sigma _{g}(W_{r}x_{t}+U_{r}h_{t-1}+b_{r}) \\\\\n",
    "h_{t}&=(1-z_{t})\\circ h_{t-1}+z_{t}\\circ \\sigma _{h}(W_{h}x_{t}+U_{h}(r_{t}\\circ h_{t-1})+b_{h})\n",
    "\\end{aligned}"
   ]
  },
  {
   "cell_type": "markdown",
   "metadata": {},
   "source": [
    "<b>Какая проблема есть у всех описанных выше подходов?</b>\n",
    "<br><br><br><br>"
   ]
  },
  {
   "cell_type": "markdown",
   "metadata": {
    "collapsed": true
   },
   "source": [
    "<img src='https://pics.me.me/when-you-enter-a-room-but-forget-what-you-wanted-23455102.png' width=\"50%\" height=\"50%\">"
   ]
  },
  {
   "cell_type": "markdown",
   "metadata": {},
   "source": [
    "<h2>Bidirectional rnn</h2>"
   ]
  },
  {
   "cell_type": "markdown",
   "metadata": {
    "collapsed": true
   },
   "source": [
    "<img src='https://cdn-images-1.medium.com/max/880/1*HNF-Klzkex58xRkxWvI0dw.png' width=\"50%\" height=\"50%\">\n",
    "<br>"
   ]
  },
  {
   "cell_type": "markdown",
   "metadata": {
    "collapsed": true
   },
   "source": [
    "<img src='https://cdn-images-1.medium.com/max/880/1*wMrAZm4wlfqbdoduxZ7WSQ.png' width=\"50%\" height=\"50%\">\n",
    "<br>"
   ]
  },
  {
   "cell_type": "markdown",
   "metadata": {
    "collapsed": true
   },
   "source": [
    "<img src='https://cdn-images-1.medium.com/max/880/1*PB5HXSXOGJrnDa_Si4nj9Q.png' width=\"50%\" height=\"50%\">\n",
    "<br>"
   ]
  },
  {
   "cell_type": "markdown",
   "metadata": {},
   "source": [
    "<br><br>"
   ]
  },
  {
   "cell_type": "markdown",
   "metadata": {
    "collapsed": true
   },
   "source": [
    "<b>В чем разница между CNN и RNN?</b>"
   ]
  },
  {
   "cell_type": "markdown",
   "metadata": {},
   "source": [
    "https://arxiv.org/pdf/1702.01923.pdf"
   ]
  },
  {
   "cell_type": "markdown",
   "metadata": {},
   "source": [
    "<br><br>"
   ]
  },
  {
   "cell_type": "code",
   "execution_count": 29,
   "metadata": {},
   "outputs": [
    {
     "name": "stdout",
     "output_type": "stream",
     "text": [
      "1.12.0\n"
     ]
    }
   ],
   "source": [
    "import os\n",
    "import string\n",
    "import tempfile\n",
    "import tensorflow as tf\n",
    "import numpy as np\n",
    "import matplotlib.pyplot as plt\n",
    "\n",
    "from tensorflow.python.keras.datasets import imdb\n",
    "from tensorflow.python.keras.preprocessing import sequence\n",
    "from tensorboard import summary as summary_lib\n",
    "\n",
    "tf.logging.set_verbosity(tf.logging.INFO)\n",
    "print(tf.__version__)"
   ]
  },
  {
   "cell_type": "code",
   "execution_count": 30,
   "metadata": {},
   "outputs": [
    {
     "name": "stdout",
     "output_type": "stream",
     "text": [
      "Loading data...\n",
      "25000 train sequences\n",
      "25000 test sequences\n",
      "Pad sequences (samples x time)\n",
      "x_train shape: (25000, 200)\n",
      "x_test shape: (25000, 200)\n"
     ]
    }
   ],
   "source": [
    "vocab_size = 5000\n",
    "sentence_size = 200\n",
    "embedding_size = 50\n",
    "model_dir = tempfile.mkdtemp()\n",
    "\n",
    "# we assign the first indices in the vocabulary to special tokens that we use\n",
    "# for padding, as start token, and for indicating unknown words\n",
    "pad_id = 0\n",
    "start_id = 1\n",
    "oov_id = 2\n",
    "index_offset = 2\n",
    "\n",
    "print(\"Loading data...\")\n",
    "(x_train_variable, y_train), (x_test_variable, y_test) = imdb.load_data(\n",
    "    num_words=vocab_size, start_char=start_id, oov_char=oov_id,\n",
    "    index_from=index_offset)\n",
    "print(len(y_train), \"train sequences\")\n",
    "print(len(y_test), \"test sequences\")\n",
    "\n",
    "print(\"Pad sequences (samples x time)\")\n",
    "x_train = sequence.pad_sequences(x_train_variable, \n",
    "                                 maxlen=sentence_size,\n",
    "                                 truncating='post',\n",
    "                                 padding='post',\n",
    "                                 value=pad_id)\n",
    "x_test = sequence.pad_sequences(x_test_variable, \n",
    "                                maxlen=sentence_size,\n",
    "                                truncating='post',\n",
    "                                padding='post', \n",
    "                                value=pad_id)\n",
    "print(\"x_train shape:\", x_train.shape)\n",
    "print(\"x_test shape:\", x_test.shape)"
   ]
  },
  {
   "cell_type": "code",
   "execution_count": 31,
   "metadata": {},
   "outputs": [
    {
     "name": "stdout",
     "output_type": "stream",
     "text": [
      "Downloading data from https://storage.googleapis.com/tensorflow/tf-keras-datasets/imdb_word_index.json\n",
      "1646592/1641221 [==============================] - 0s 0us/step\n",
      "0 <PAD>\n",
      "1 <START>\n",
      "2 <OOV>\n",
      "3 the\n",
      "4 and\n",
      "5 a\n",
      "6 of\n",
      "7 to\n",
      "8 is\n",
      "9 br\n",
      "<START> this film was just brilliant casting location scenery story direction everyone's really suited the part they played and you could just imagine being there robert <OOV> is an amazing actor and now the same being director <OOV> father came from the same scottish island as myself so i loved the fact there was a real connection with this film the witty remarks throughout the film were great it was just brilliant so much that i bought the film as soon as it was released for <OOV> and would recommend it to everyone to watch and the fly <OOV> was amazing really cried at the end it was so sad and you know what they say if you cry at a film it must have been good and this definitely was also <OOV> to the two little <OOV> that played the <OOV> of norman and paul they were just brilliant children are often left out of the <OOV> list i think because the stars that play them all grown up are such a big <OOV> for the whole film but these children are amazing and should be <OOV> for what they have done don't you think the whole story was so lovely because it was true and was someone's life after all that was <OOV> with us all\n"
     ]
    }
   ],
   "source": [
    "word_index = imdb.get_word_index()\n",
    "word_inverted_index = {v + index_offset: k for k, v in word_index.items()}\n",
    "\n",
    "# The first indexes in the map are reserved to represent things other than tokens\n",
    "word_inverted_index[pad_id] = '<PAD>'\n",
    "word_inverted_index[start_id] = '<START>'\n",
    "word_inverted_index[oov_id] = '<OOV>'\n",
    "\n",
    "for i in range(0, 10):\n",
    "  print(i, word_inverted_index[i])\n",
    "  \n",
    "def index_to_text(indexes):\n",
    "    return ' '.join([word_inverted_index[i] for i in indexes])\n",
    "\n",
    "print(index_to_text(x_train_variable[0]))"
   ]
  },
  {
   "cell_type": "code",
   "execution_count": 32,
   "metadata": {
    "collapsed": true
   },
   "outputs": [],
   "source": [
    "x_len_train = np.array([min(len(x), sentence_size) for x in x_train_variable])\n",
    "x_len_test = np.array([min(len(x), sentence_size) for x in x_test_variable])\n",
    "\n",
    "def parser(x, length, y):\n",
    "    features = {\"x\": x, \"len\": length}\n",
    "    return features, y\n",
    "\n",
    "def train_input_fn():\n",
    "    dataset = tf.data.Dataset.from_tensor_slices((x_train, x_len_train, y_train))\n",
    "    dataset = dataset.shuffle(buffer_size=len(x_train_variable))\n",
    "    dataset = dataset.batch(100)\n",
    "    dataset = dataset.map(parser)\n",
    "    dataset = dataset.repeat()\n",
    "    iterator = dataset.make_one_shot_iterator()\n",
    "    return iterator.get_next()\n",
    "\n",
    "def eval_input_fn():\n",
    "    dataset = tf.data.Dataset.from_tensor_slices((x_test, x_len_test, y_test))\n",
    "    dataset = dataset.batch(100)\n",
    "    dataset = dataset.map(parser)\n",
    "    iterator = dataset.make_one_shot_iterator()\n",
    "    return iterator.get_next()"
   ]
  },
  {
   "cell_type": "code",
   "execution_count": 36,
   "metadata": {
    "collapsed": true
   },
   "outputs": [],
   "source": [
    "all_classifiers = {}\n",
    "def train_and_evaluate(classifier):\n",
    "    # Save a reference to the classifier to run predictions later\n",
    "    all_classifiers[classifier.model_dir] = classifier\n",
    "    classifier.train(input_fn=train_input_fn, steps=25000)\n",
    "    eval_results = classifier.evaluate(input_fn=eval_input_fn)\n",
    "    predictions = np.array([p['logistic'][0] for p in classifier.predict(input_fn=eval_input_fn)])\n",
    "        \n",
    "    # Reset the graph to be able to reuse name scopes\n",
    "    tf.reset_default_graph() \n",
    "    # Add a PR summary in addition to the summaries that the classifier writes\n",
    "    pr = summary_lib.pr_curve('precision_recall', predictions=predictions, labels=y_test.astype(bool), num_thresholds=21)\n",
    "    with tf.Session() as sess:\n",
    "        writer = tf.summary.FileWriter(os.path.join(classifier.model_dir, 'eval'), sess.graph)\n",
    "        writer.add_summary(sess.run(pr), global_step=0)\n",
    "        writer.close()"
   ]
  },
  {
   "cell_type": "code",
   "execution_count": 37,
   "metadata": {},
   "outputs": [
    {
     "name": "stdout",
     "output_type": "stream",
     "text": [
      "INFO:tensorflow:Using default config.\n",
      "INFO:tensorflow:Using config: {'_model_dir': '/tmp/tmplq70z2_r/lstm', '_tf_random_seed': None, '_save_summary_steps': 100, '_save_checkpoints_steps': None, '_save_checkpoints_secs': 600, '_session_config': allow_soft_placement: true\n",
      "graph_options {\n",
      "  rewrite_options {\n",
      "    meta_optimizer_iterations: ONE\n",
      "  }\n",
      "}\n",
      ", '_keep_checkpoint_max': 5, '_keep_checkpoint_every_n_hours': 10000, '_log_step_count_steps': 100, '_train_distribute': None, '_device_fn': None, '_protocol': None, '_eval_distribute': None, '_experimental_distribute': None, '_service': None, '_cluster_spec': <tensorflow.python.training.server_lib.ClusterSpec object at 0x7f0c6abaa3c8>, '_task_type': 'worker', '_task_id': 0, '_global_id_in_cluster': 0, '_master': '', '_evaluation_master': '', '_is_chief': True, '_num_ps_replicas': 0, '_num_worker_replicas': 1}\n",
      "INFO:tensorflow:Calling model_fn.\n",
      "WARNING:tensorflow:From <ipython-input-37-9ae5799605a7>:10: BasicLSTMCell.__init__ (from tensorflow.python.ops.rnn_cell_impl) is deprecated and will be removed in a future version.\n",
      "Instructions for updating:\n",
      "This class is deprecated, please use tf.nn.rnn_cell.LSTMCell, which supports all the feature this cell currently has. Please replace the existing code with tf.nn.rnn_cell.LSTMCell(name='basic_lstm_cell').\n",
      "INFO:tensorflow:Done calling model_fn.\n",
      "INFO:tensorflow:Create CheckpointSaverHook.\n",
      "INFO:tensorflow:Graph was finalized.\n",
      "INFO:tensorflow:Running local_init_op.\n",
      "INFO:tensorflow:Done running local_init_op.\n",
      "INFO:tensorflow:Saving checkpoints for 0 into /tmp/tmplq70z2_r/lstm/model.ckpt.\n",
      "INFO:tensorflow:loss = 0.7032343, step = 1\n",
      "INFO:tensorflow:global_step/sec: 2.8772\n",
      "INFO:tensorflow:loss = 0.6566897, step = 101 (34.758 sec)\n",
      "INFO:tensorflow:global_step/sec: 2.86777\n",
      "INFO:tensorflow:loss = 0.5844797, step = 201 (34.870 sec)\n",
      "INFO:tensorflow:global_step/sec: 2.85659\n",
      "INFO:tensorflow:loss = 0.46239907, step = 301 (35.007 sec)\n",
      "INFO:tensorflow:global_step/sec: 2.77944\n",
      "INFO:tensorflow:loss = 0.3960391, step = 401 (35.978 sec)\n",
      "INFO:tensorflow:global_step/sec: 2.91013\n",
      "INFO:tensorflow:loss = 0.38156468, step = 501 (34.363 sec)\n",
      "INFO:tensorflow:global_step/sec: 2.92695\n",
      "INFO:tensorflow:loss = 0.422341, step = 601 (34.165 sec)\n",
      "INFO:tensorflow:global_step/sec: 2.8744\n",
      "INFO:tensorflow:loss = 0.34862536, step = 701 (34.790 sec)\n",
      "INFO:tensorflow:global_step/sec: 2.85671\n",
      "INFO:tensorflow:loss = 0.3300397, step = 801 (35.008 sec)\n",
      "INFO:tensorflow:global_step/sec: 2.89463\n",
      "INFO:tensorflow:loss = 0.2884348, step = 901 (34.544 sec)\n",
      "INFO:tensorflow:global_step/sec: 2.91703\n",
      "INFO:tensorflow:loss = 0.37135413, step = 1001 (34.281 sec)\n",
      "INFO:tensorflow:global_step/sec: 2.87469\n",
      "INFO:tensorflow:loss = 0.3143522, step = 1101 (34.786 sec)\n",
      "INFO:tensorflow:global_step/sec: 2.8898\n",
      "INFO:tensorflow:loss = 0.17197855, step = 1201 (34.605 sec)\n",
      "INFO:tensorflow:global_step/sec: 2.78361\n",
      "INFO:tensorflow:loss = 0.24774969, step = 1301 (35.924 sec)\n",
      "INFO:tensorflow:global_step/sec: 2.85862\n",
      "INFO:tensorflow:loss = 0.20541492, step = 1401 (34.982 sec)\n",
      "INFO:tensorflow:global_step/sec: 2.8482\n",
      "INFO:tensorflow:loss = 0.21714082, step = 1501 (35.110 sec)\n",
      "INFO:tensorflow:global_step/sec: 2.81093\n",
      "INFO:tensorflow:loss = 0.19899362, step = 1601 (35.575 sec)\n",
      "INFO:tensorflow:global_step/sec: 2.84997\n",
      "INFO:tensorflow:loss = 0.26306972, step = 1701 (35.088 sec)\n",
      "INFO:tensorflow:Saving checkpoints for 1717 into /tmp/tmplq70z2_r/lstm/model.ckpt.\n",
      "INFO:tensorflow:global_step/sec: 2.85557\n",
      "INFO:tensorflow:loss = 0.28782198, step = 1801 (35.019 sec)\n",
      "INFO:tensorflow:global_step/sec: 2.86594\n",
      "INFO:tensorflow:loss = 0.11115512, step = 1901 (34.893 sec)\n",
      "INFO:tensorflow:global_step/sec: 2.80935\n",
      "INFO:tensorflow:loss = 0.17396373, step = 2001 (35.595 sec)\n",
      "INFO:tensorflow:global_step/sec: 2.8448\n",
      "INFO:tensorflow:loss = 0.12828285, step = 2101 (35.152 sec)\n",
      "INFO:tensorflow:global_step/sec: 2.84644\n",
      "INFO:tensorflow:loss = 0.24265724, step = 2201 (35.132 sec)\n",
      "INFO:tensorflow:global_step/sec: 2.87905\n",
      "INFO:tensorflow:loss = 0.13722149, step = 2301 (34.740 sec)\n",
      "INFO:tensorflow:global_step/sec: 2.7765\n",
      "INFO:tensorflow:loss = 0.23505878, step = 2401 (36.012 sec)\n",
      "INFO:tensorflow:global_step/sec: 2.77143\n",
      "INFO:tensorflow:loss = 0.105521105, step = 2501 (36.080 sec)\n",
      "INFO:tensorflow:global_step/sec: 2.78989\n",
      "INFO:tensorflow:loss = 0.33353576, step = 2601 (35.844 sec)\n",
      "INFO:tensorflow:global_step/sec: 2.82299\n",
      "INFO:tensorflow:loss = 0.15038274, step = 2701 (35.423 sec)\n",
      "INFO:tensorflow:global_step/sec: 2.84966\n",
      "INFO:tensorflow:loss = 0.108029224, step = 2801 (35.092 sec)\n",
      "INFO:tensorflow:global_step/sec: 2.82472\n",
      "INFO:tensorflow:loss = 0.20517841, step = 2901 (35.403 sec)\n",
      "INFO:tensorflow:global_step/sec: 2.79532\n",
      "INFO:tensorflow:loss = 0.15429927, step = 3001 (35.773 sec)\n",
      "INFO:tensorflow:global_step/sec: 2.79365\n",
      "INFO:tensorflow:loss = 0.10414446, step = 3101 (35.796 sec)\n",
      "INFO:tensorflow:global_step/sec: 2.84513\n",
      "INFO:tensorflow:loss = 0.05369453, step = 3201 (35.148 sec)\n",
      "INFO:tensorflow:global_step/sec: 2.82995\n",
      "INFO:tensorflow:loss = 0.05289164, step = 3301 (35.336 sec)\n",
      "INFO:tensorflow:global_step/sec: 2.86548\n",
      "INFO:tensorflow:loss = 0.15415803, step = 3401 (34.898 sec)\n",
      "INFO:tensorflow:Saving checkpoints for 3414 into /tmp/tmplq70z2_r/lstm/model.ckpt.\n",
      "INFO:tensorflow:global_step/sec: 2.81954\n",
      "INFO:tensorflow:loss = 0.067730956, step = 3501 (35.467 sec)\n",
      "INFO:tensorflow:global_step/sec: 2.86597\n",
      "INFO:tensorflow:loss = 0.035307683, step = 3601 (34.893 sec)\n",
      "INFO:tensorflow:global_step/sec: 2.87772\n",
      "INFO:tensorflow:loss = 0.10243778, step = 3701 (34.751 sec)\n",
      "INFO:tensorflow:global_step/sec: 2.87794\n",
      "INFO:tensorflow:loss = 0.039692305, step = 3801 (34.745 sec)\n",
      "INFO:tensorflow:global_step/sec: 2.8583\n",
      "INFO:tensorflow:loss = 0.093425915, step = 3901 (34.986 sec)\n",
      "INFO:tensorflow:global_step/sec: 2.80608\n",
      "INFO:tensorflow:loss = 0.06152838, step = 4001 (35.637 sec)\n",
      "INFO:tensorflow:global_step/sec: 2.86728\n",
      "INFO:tensorflow:loss = 0.019190747, step = 4101 (34.877 sec)\n",
      "INFO:tensorflow:global_step/sec: 2.77194\n",
      "INFO:tensorflow:loss = 0.10696384, step = 4201 (36.075 sec)\n",
      "INFO:tensorflow:global_step/sec: 2.77594\n",
      "INFO:tensorflow:loss = 0.07314777, step = 4301 (36.024 sec)\n",
      "INFO:tensorflow:global_step/sec: 2.85226\n",
      "INFO:tensorflow:loss = 0.027666567, step = 4401 (35.060 sec)\n",
      "INFO:tensorflow:global_step/sec: 2.82971\n",
      "INFO:tensorflow:loss = 0.10551229, step = 4501 (35.340 sec)\n",
      "INFO:tensorflow:global_step/sec: 2.76724\n",
      "INFO:tensorflow:loss = 0.004623801, step = 4601 (36.136 sec)\n",
      "INFO:tensorflow:global_step/sec: 2.80361\n",
      "INFO:tensorflow:loss = 0.030277655, step = 4701 (35.669 sec)\n",
      "INFO:tensorflow:global_step/sec: 2.83483\n",
      "INFO:tensorflow:loss = 0.031140368, step = 4801 (35.278 sec)\n",
      "INFO:tensorflow:global_step/sec: 2.9319\n",
      "INFO:tensorflow:loss = 0.0657448, step = 4901 (34.105 sec)\n",
      "INFO:tensorflow:global_step/sec: 2.8316\n",
      "INFO:tensorflow:loss = 0.023421409, step = 5001 (35.316 sec)\n",
      "INFO:tensorflow:global_step/sec: 2.79826\n",
      "INFO:tensorflow:loss = 0.011563238, step = 5101 (35.736 sec)\n",
      "INFO:tensorflow:Saving checkpoints for 5114 into /tmp/tmplq70z2_r/lstm/model.ckpt.\n",
      "INFO:tensorflow:global_step/sec: 2.81328\n",
      "INFO:tensorflow:loss = 0.03052907, step = 5201 (35.546 sec)\n",
      "INFO:tensorflow:global_step/sec: 2.84144\n",
      "INFO:tensorflow:loss = 0.09785328, step = 5301 (35.194 sec)\n",
      "INFO:tensorflow:global_step/sec: 2.86306\n",
      "INFO:tensorflow:loss = 0.07426601, step = 5401 (34.929 sec)\n",
      "INFO:tensorflow:global_step/sec: 2.84164\n",
      "INFO:tensorflow:loss = 0.014719069, step = 5501 (35.189 sec)\n",
      "INFO:tensorflow:global_step/sec: 2.89634\n",
      "INFO:tensorflow:loss = 0.029659068, step = 5601 (34.528 sec)\n",
      "INFO:tensorflow:global_step/sec: 2.88805\n",
      "INFO:tensorflow:loss = 0.005667063, step = 5701 (34.624 sec)\n",
      "INFO:tensorflow:global_step/sec: 2.89337\n",
      "INFO:tensorflow:loss = 0.03639759, step = 5801 (34.561 sec)\n",
      "INFO:tensorflow:global_step/sec: 2.8486\n",
      "INFO:tensorflow:loss = 0.02081397, step = 5901 (35.105 sec)\n",
      "INFO:tensorflow:global_step/sec: 2.86647\n",
      "INFO:tensorflow:loss = 0.07261087, step = 6001 (34.886 sec)\n",
      "INFO:tensorflow:global_step/sec: 2.95845\n",
      "INFO:tensorflow:loss = 0.005010978, step = 6101 (33.804 sec)\n",
      "INFO:tensorflow:global_step/sec: 2.96679\n",
      "INFO:tensorflow:loss = 0.0048454655, step = 6201 (33.704 sec)\n",
      "INFO:tensorflow:global_step/sec: 2.99485\n",
      "INFO:tensorflow:loss = 0.00085664785, step = 6301 (33.391 sec)\n"
     ]
    },
    {
     "name": "stdout",
     "output_type": "stream",
     "text": [
      "INFO:tensorflow:global_step/sec: 2.9241\n",
      "INFO:tensorflow:loss = 0.0059428834, step = 6401 (34.199 sec)\n",
      "INFO:tensorflow:global_step/sec: 2.95455\n",
      "INFO:tensorflow:loss = 0.0009872862, step = 6501 (33.846 sec)\n",
      "INFO:tensorflow:global_step/sec: 2.9914\n",
      "INFO:tensorflow:loss = 0.00077918364, step = 6601 (33.429 sec)\n",
      "INFO:tensorflow:global_step/sec: 3.00698\n",
      "INFO:tensorflow:loss = 0.0011633678, step = 6701 (33.256 sec)\n",
      "INFO:tensorflow:global_step/sec: 2.97289\n",
      "INFO:tensorflow:loss = 0.00048145608, step = 6801 (33.637 sec)\n",
      "INFO:tensorflow:Saving checkpoints for 6865 into /tmp/tmplq70z2_r/lstm/model.ckpt.\n",
      "INFO:tensorflow:global_step/sec: 3.00465\n",
      "INFO:tensorflow:loss = 0.000424539, step = 6901 (33.282 sec)\n",
      "INFO:tensorflow:global_step/sec: 2.93408\n",
      "INFO:tensorflow:loss = 0.0010001207, step = 7001 (34.082 sec)\n",
      "INFO:tensorflow:global_step/sec: 2.95056\n",
      "INFO:tensorflow:loss = 0.0008488253, step = 7101 (33.893 sec)\n",
      "INFO:tensorflow:global_step/sec: 2.95795\n",
      "INFO:tensorflow:loss = 0.00078254327, step = 7201 (33.807 sec)\n",
      "INFO:tensorflow:global_step/sec: 2.93751\n",
      "INFO:tensorflow:loss = 0.0011809559, step = 7301 (34.042 sec)\n",
      "INFO:tensorflow:global_step/sec: 2.95915\n",
      "INFO:tensorflow:loss = 0.00046863838, step = 7401 (33.794 sec)\n",
      "INFO:tensorflow:global_step/sec: 3.00255\n",
      "INFO:tensorflow:loss = 0.0007672144, step = 7501 (33.305 sec)\n",
      "INFO:tensorflow:global_step/sec: 3.05644\n",
      "INFO:tensorflow:loss = 0.00044916614, step = 7601 (32.719 sec)\n",
      "INFO:tensorflow:global_step/sec: 2.9899\n",
      "INFO:tensorflow:loss = 0.00017438243, step = 7701 (33.445 sec)\n",
      "INFO:tensorflow:global_step/sec: 2.91365\n",
      "INFO:tensorflow:loss = 0.00031012966, step = 7801 (34.321 sec)\n",
      "INFO:tensorflow:global_step/sec: 2.99817\n",
      "INFO:tensorflow:loss = 0.0003298592, step = 7901 (33.356 sec)\n",
      "INFO:tensorflow:global_step/sec: 2.92\n",
      "INFO:tensorflow:loss = 0.00030510477, step = 8001 (34.245 sec)\n",
      "INFO:tensorflow:global_step/sec: 2.9528\n",
      "INFO:tensorflow:loss = 0.00018150575, step = 8101 (33.867 sec)\n",
      "INFO:tensorflow:global_step/sec: 3.06133\n",
      "INFO:tensorflow:loss = 0.00020690732, step = 8201 (32.664 sec)\n",
      "INFO:tensorflow:global_step/sec: 2.9627\n",
      "INFO:tensorflow:loss = 0.00021092007, step = 8301 (33.753 sec)\n",
      "INFO:tensorflow:global_step/sec: 2.97919\n",
      "INFO:tensorflow:loss = 0.00025661913, step = 8401 (33.567 sec)\n",
      "INFO:tensorflow:global_step/sec: 2.9981\n",
      "INFO:tensorflow:loss = 0.00024869002, step = 8501 (33.354 sec)\n",
      "INFO:tensorflow:global_step/sec: 2.93476\n",
      "INFO:tensorflow:loss = 0.00010239583, step = 8601 (34.075 sec)\n",
      "INFO:tensorflow:Saving checkpoints for 8648 into /tmp/tmplq70z2_r/lstm/model.ckpt.\n",
      "INFO:tensorflow:global_step/sec: 2.91076\n",
      "INFO:tensorflow:loss = 0.0001415103, step = 8701 (34.355 sec)\n",
      "INFO:tensorflow:global_step/sec: 2.93874\n",
      "INFO:tensorflow:loss = 0.00018082786, step = 8801 (34.028 sec)\n",
      "INFO:tensorflow:global_step/sec: 2.96812\n",
      "INFO:tensorflow:loss = 6.93173e-05, step = 8901 (33.691 sec)\n",
      "INFO:tensorflow:global_step/sec: 2.99319\n",
      "INFO:tensorflow:loss = 1.0681129e-05, step = 9001 (33.409 sec)\n",
      "INFO:tensorflow:global_step/sec: 2.95443\n",
      "INFO:tensorflow:loss = 5.0421622e-05, step = 9101 (33.850 sec)\n",
      "INFO:tensorflow:global_step/sec: 2.96094\n",
      "INFO:tensorflow:loss = 0.00014843083, step = 9201 (33.771 sec)\n",
      "INFO:tensorflow:global_step/sec: 2.97653\n",
      "INFO:tensorflow:loss = 0.00011969427, step = 9301 (33.595 sec)\n",
      "INFO:tensorflow:global_step/sec: 2.95299\n",
      "INFO:tensorflow:loss = 0.00013243147, step = 9401 (33.865 sec)\n",
      "INFO:tensorflow:global_step/sec: 2.76145\n",
      "INFO:tensorflow:loss = 6.0567134e-05, step = 9501 (36.212 sec)\n",
      "INFO:tensorflow:global_step/sec: 2.70252\n",
      "INFO:tensorflow:loss = 0.27926448, step = 9601 (37.003 sec)\n",
      "INFO:tensorflow:global_step/sec: 2.7811\n",
      "INFO:tensorflow:loss = 0.1601059, step = 9701 (35.956 sec)\n",
      "INFO:tensorflow:global_step/sec: 2.94937\n",
      "INFO:tensorflow:loss = 0.022984732, step = 9801 (33.906 sec)\n",
      "INFO:tensorflow:global_step/sec: 2.99519\n",
      "INFO:tensorflow:loss = 0.060365323, step = 9901 (33.387 sec)\n",
      "INFO:tensorflow:global_step/sec: 2.93921\n",
      "INFO:tensorflow:loss = 0.013859571, step = 10001 (34.023 sec)\n",
      "INFO:tensorflow:global_step/sec: 2.99932\n",
      "INFO:tensorflow:loss = 0.007738822, step = 10101 (33.341 sec)\n",
      "INFO:tensorflow:global_step/sec: 3.02533\n",
      "INFO:tensorflow:loss = 0.0063099456, step = 10201 (33.054 sec)\n",
      "INFO:tensorflow:global_step/sec: 2.98828\n",
      "INFO:tensorflow:loss = 0.02604645, step = 10301 (33.464 sec)\n",
      "INFO:tensorflow:global_step/sec: 3.00057\n",
      "INFO:tensorflow:loss = 0.038841438, step = 10401 (33.327 sec)\n",
      "INFO:tensorflow:Saving checkpoints for 10406 into /tmp/tmplq70z2_r/lstm/model.ckpt.\n",
      "INFO:tensorflow:global_step/sec: 2.95934\n",
      "INFO:tensorflow:loss = 0.002282152, step = 10501 (33.792 sec)\n",
      "INFO:tensorflow:global_step/sec: 3.09234\n",
      "INFO:tensorflow:loss = 0.011555723, step = 10601 (32.338 sec)\n",
      "INFO:tensorflow:global_step/sec: 2.97411\n",
      "INFO:tensorflow:loss = 0.002232943, step = 10701 (33.624 sec)\n",
      "INFO:tensorflow:global_step/sec: 3.00186\n",
      "INFO:tensorflow:loss = 0.008249414, step = 10801 (33.313 sec)\n",
      "INFO:tensorflow:global_step/sec: 3.00927\n",
      "INFO:tensorflow:loss = 0.0013214535, step = 10901 (33.233 sec)\n",
      "INFO:tensorflow:global_step/sec: 3.01573\n",
      "INFO:tensorflow:loss = 0.0014741032, step = 11001 (33.158 sec)\n",
      "INFO:tensorflow:global_step/sec: 2.94368\n",
      "INFO:tensorflow:loss = 0.0019527822, step = 11101 (33.971 sec)\n",
      "INFO:tensorflow:global_step/sec: 2.92161\n",
      "INFO:tensorflow:loss = 0.0012338818, step = 11201 (34.230 sec)\n",
      "INFO:tensorflow:global_step/sec: 2.96707\n",
      "INFO:tensorflow:loss = 0.00050427695, step = 11301 (33.702 sec)\n",
      "INFO:tensorflow:global_step/sec: 2.94653\n",
      "INFO:tensorflow:loss = 0.0006067084, step = 11401 (33.938 sec)\n",
      "INFO:tensorflow:global_step/sec: 2.98059\n",
      "INFO:tensorflow:loss = 0.0003428139, step = 11501 (33.550 sec)\n",
      "INFO:tensorflow:global_step/sec: 2.96043\n",
      "INFO:tensorflow:loss = 0.00028585872, step = 11601 (33.780 sec)\n",
      "INFO:tensorflow:global_step/sec: 2.97082\n",
      "INFO:tensorflow:loss = 0.00018782969, step = 11701 (33.659 sec)\n",
      "INFO:tensorflow:global_step/sec: 3.01504\n",
      "INFO:tensorflow:loss = 0.00034634475, step = 11801 (33.167 sec)\n",
      "INFO:tensorflow:global_step/sec: 2.97462\n",
      "INFO:tensorflow:loss = 0.00037412916, step = 11901 (33.618 sec)\n",
      "INFO:tensorflow:global_step/sec: 3.05896\n",
      "INFO:tensorflow:loss = 0.00029424156, step = 12001 (32.691 sec)\n",
      "INFO:tensorflow:global_step/sec: 2.97041\n",
      "INFO:tensorflow:loss = 0.0006709759, step = 12101 (33.666 sec)\n",
      "INFO:tensorflow:Saving checkpoints for 12197 into /tmp/tmplq70z2_r/lstm/model.ckpt.\n",
      "INFO:tensorflow:global_step/sec: 2.94592\n",
      "INFO:tensorflow:loss = 7.638449e-05, step = 12201 (33.944 sec)\n",
      "INFO:tensorflow:global_step/sec: 2.98955\n",
      "INFO:tensorflow:loss = 0.00023966636, step = 12301 (33.450 sec)\n",
      "INFO:tensorflow:global_step/sec: 2.97213\n",
      "INFO:tensorflow:loss = 0.00015920795, step = 12401 (33.646 sec)\n",
      "INFO:tensorflow:global_step/sec: 2.93133\n",
      "INFO:tensorflow:loss = 9.30347e-05, step = 12501 (34.115 sec)\n",
      "INFO:tensorflow:global_step/sec: 3.05017\n",
      "INFO:tensorflow:loss = 6.815052e-05, step = 12601 (32.784 sec)\n",
      "INFO:tensorflow:global_step/sec: 3.09055\n",
      "INFO:tensorflow:loss = 0.00019039372, step = 12701 (32.356 sec)\n",
      "INFO:tensorflow:global_step/sec: 3.13839\n",
      "INFO:tensorflow:loss = 0.00012032803, step = 12801 (31.863 sec)\n",
      "INFO:tensorflow:global_step/sec: 2.9716\n",
      "INFO:tensorflow:loss = 8.9596135e-05, step = 12901 (33.652 sec)\n",
      "INFO:tensorflow:global_step/sec: 2.94399\n",
      "INFO:tensorflow:loss = 0.00013879297, step = 13001 (33.968 sec)\n",
      "INFO:tensorflow:global_step/sec: 2.96183\n",
      "INFO:tensorflow:loss = 0.00022306839, step = 13101 (33.762 sec)\n",
      "INFO:tensorflow:global_step/sec: 2.98801\n",
      "INFO:tensorflow:loss = 8.5370026e-05, step = 13201 (33.467 sec)\n",
      "INFO:tensorflow:global_step/sec: 3.03024\n",
      "INFO:tensorflow:loss = 0.0003228129, step = 13301 (33.000 sec)\n",
      "INFO:tensorflow:global_step/sec: 3.01512\n",
      "INFO:tensorflow:loss = 0.0001061498, step = 13401 (33.166 sec)\n",
      "INFO:tensorflow:global_step/sec: 2.7056\n",
      "INFO:tensorflow:loss = 3.6171165e-05, step = 13501 (36.960 sec)\n",
      "INFO:tensorflow:global_step/sec: 2.83492\n",
      "INFO:tensorflow:loss = 6.6444074e-05, step = 13601 (35.275 sec)\n",
      "INFO:tensorflow:global_step/sec: 3.00957\n",
      "INFO:tensorflow:loss = 8.529723e-05, step = 13701 (33.227 sec)\n",
      "INFO:tensorflow:global_step/sec: 2.9781\n",
      "INFO:tensorflow:loss = 8.518189e-05, step = 13801 (33.579 sec)\n",
      "INFO:tensorflow:global_step/sec: 2.92643\n",
      "INFO:tensorflow:loss = 6.090298e-05, step = 13901 (34.171 sec)\n"
     ]
    },
    {
     "name": "stdout",
     "output_type": "stream",
     "text": [
      "INFO:tensorflow:Saving checkpoints for 13979 into /tmp/tmplq70z2_r/lstm/model.ckpt.\n",
      "INFO:tensorflow:global_step/sec: 2.97661\n",
      "INFO:tensorflow:loss = 7.325167e-05, step = 14001 (33.595 sec)\n",
      "INFO:tensorflow:global_step/sec: 2.98988\n",
      "INFO:tensorflow:loss = 5.409704e-05, step = 14101 (33.446 sec)\n",
      "INFO:tensorflow:global_step/sec: 2.92519\n",
      "INFO:tensorflow:loss = 9.975562e-05, step = 14201 (34.186 sec)\n",
      "INFO:tensorflow:global_step/sec: 2.91473\n",
      "INFO:tensorflow:loss = 9.416463e-05, step = 14301 (34.309 sec)\n",
      "INFO:tensorflow:global_step/sec: 2.91331\n",
      "INFO:tensorflow:loss = 6.0684102e-05, step = 14401 (34.325 sec)\n",
      "INFO:tensorflow:global_step/sec: 2.97093\n",
      "INFO:tensorflow:loss = 3.8031187e-05, step = 14501 (33.659 sec)\n",
      "INFO:tensorflow:global_step/sec: 3.00743\n",
      "INFO:tensorflow:loss = 3.3141536e-05, step = 14601 (33.251 sec)\n",
      "INFO:tensorflow:global_step/sec: 3.01425\n",
      "INFO:tensorflow:loss = 3.5284756e-05, step = 14701 (33.176 sec)\n",
      "INFO:tensorflow:global_step/sec: 2.96259\n",
      "INFO:tensorflow:loss = 5.8230562e-05, step = 14801 (33.754 sec)\n",
      "INFO:tensorflow:global_step/sec: 2.91205\n",
      "INFO:tensorflow:loss = 1.2266429e-05, step = 14901 (34.340 sec)\n",
      "INFO:tensorflow:global_step/sec: 2.99975\n",
      "INFO:tensorflow:loss = 4.649011e-05, step = 15001 (33.337 sec)\n",
      "INFO:tensorflow:global_step/sec: 2.98367\n",
      "INFO:tensorflow:loss = 4.2638687e-05, step = 15101 (33.515 sec)\n",
      "INFO:tensorflow:global_step/sec: 3.01085\n",
      "INFO:tensorflow:loss = 1.3632743e-05, step = 15201 (33.213 sec)\n",
      "INFO:tensorflow:global_step/sec: 2.89388\n",
      "INFO:tensorflow:loss = 2.1408016e-05, step = 15301 (34.556 sec)\n",
      "INFO:tensorflow:global_step/sec: 2.97148\n",
      "INFO:tensorflow:loss = 5.121933e-05, step = 15401 (33.653 sec)\n",
      "INFO:tensorflow:global_step/sec: 2.93931\n",
      "INFO:tensorflow:loss = 1.0284376e-05, step = 15501 (34.022 sec)\n",
      "INFO:tensorflow:global_step/sec: 3.03214\n",
      "INFO:tensorflow:loss = 4.8864094e-05, step = 15601 (32.981 sec)\n",
      "INFO:tensorflow:global_step/sec: 2.90747\n",
      "INFO:tensorflow:loss = 1.1275345e-05, step = 15701 (34.395 sec)\n",
      "INFO:tensorflow:Saving checkpoints for 15756 into /tmp/tmplq70z2_r/lstm/model.ckpt.\n",
      "INFO:tensorflow:global_step/sec: 2.92964\n",
      "INFO:tensorflow:loss = 2.0842741e-05, step = 15801 (34.133 sec)\n",
      "INFO:tensorflow:global_step/sec: 2.95479\n",
      "INFO:tensorflow:loss = 4.039655e-05, step = 15901 (33.842 sec)\n",
      "INFO:tensorflow:global_step/sec: 2.93332\n",
      "INFO:tensorflow:loss = 1.2479893e-05, step = 16001 (34.091 sec)\n",
      "INFO:tensorflow:global_step/sec: 2.92835\n",
      "INFO:tensorflow:loss = 2.7564569e-05, step = 16101 (34.150 sec)\n",
      "INFO:tensorflow:global_step/sec: 2.88289\n",
      "INFO:tensorflow:loss = 1.742022e-05, step = 16201 (34.687 sec)\n",
      "INFO:tensorflow:global_step/sec: 2.886\n",
      "INFO:tensorflow:loss = 3.0303107e-05, step = 16301 (34.650 sec)\n",
      "INFO:tensorflow:global_step/sec: 3.05502\n",
      "INFO:tensorflow:loss = 7.0660067e-06, step = 16401 (32.733 sec)\n",
      "INFO:tensorflow:global_step/sec: 2.9118\n",
      "INFO:tensorflow:loss = 7.055613e-06, step = 16501 (34.345 sec)\n",
      "INFO:tensorflow:global_step/sec: 2.94003\n",
      "INFO:tensorflow:loss = 5.8361647e-06, step = 16601 (34.011 sec)\n",
      "INFO:tensorflow:global_step/sec: 2.89322\n",
      "INFO:tensorflow:loss = 2.9593864e-05, step = 16701 (34.566 sec)\n",
      "INFO:tensorflow:global_step/sec: 2.87131\n",
      "INFO:tensorflow:loss = 1.2294791e-05, step = 16801 (34.825 sec)\n",
      "INFO:tensorflow:global_step/sec: 2.97386\n",
      "INFO:tensorflow:loss = 1.808789e-05, step = 16901 (33.626 sec)\n",
      "INFO:tensorflow:global_step/sec: 2.95037\n",
      "INFO:tensorflow:loss = 7.5286575e-06, step = 17001 (33.895 sec)\n",
      "INFO:tensorflow:global_step/sec: 2.90982\n",
      "INFO:tensorflow:loss = 1.1083043e-05, step = 17101 (34.366 sec)\n",
      "INFO:tensorflow:global_step/sec: 2.96878\n",
      "INFO:tensorflow:loss = 8.672711e-06, step = 17201 (33.684 sec)\n",
      "INFO:tensorflow:global_step/sec: 2.98709\n",
      "INFO:tensorflow:loss = 5.3335493e-06, step = 17301 (33.477 sec)\n",
      "INFO:tensorflow:global_step/sec: 2.92934\n",
      "INFO:tensorflow:loss = 8.700935e-06, step = 17401 (34.138 sec)\n",
      "INFO:tensorflow:global_step/sec: 2.95967\n",
      "INFO:tensorflow:loss = 1.7316535e-05, step = 17501 (33.787 sec)\n",
      "INFO:tensorflow:Saving checkpoints for 17517 into /tmp/tmplq70z2_r/lstm/model.ckpt.\n",
      "INFO:tensorflow:global_step/sec: 2.92624\n",
      "INFO:tensorflow:loss = 7.3653355e-06, step = 17601 (34.174 sec)\n",
      "INFO:tensorflow:global_step/sec: 2.94943\n",
      "INFO:tensorflow:loss = 8.161166e-06, step = 17701 (33.905 sec)\n",
      "INFO:tensorflow:global_step/sec: 2.89785\n",
      "INFO:tensorflow:loss = 5.1063403e-06, step = 17801 (34.509 sec)\n",
      "INFO:tensorflow:global_step/sec: 2.92816\n",
      "INFO:tensorflow:loss = 5.7023326e-06, step = 17901 (34.151 sec)\n",
      "INFO:tensorflow:global_step/sec: 2.82868\n",
      "INFO:tensorflow:loss = 5.91862e-06, step = 18001 (35.352 sec)\n",
      "INFO:tensorflow:global_step/sec: 2.91483\n",
      "INFO:tensorflow:loss = 1.0945929e-05, step = 18101 (34.307 sec)\n",
      "INFO:tensorflow:global_step/sec: 2.92347\n",
      "INFO:tensorflow:loss = 1.0836753e-05, step = 18201 (34.206 sec)\n",
      "INFO:tensorflow:global_step/sec: 2.83602\n",
      "INFO:tensorflow:loss = 4.119059e-06, step = 18301 (35.260 sec)\n",
      "INFO:tensorflow:global_step/sec: 2.83013\n",
      "INFO:tensorflow:loss = 5.6463596e-06, step = 18401 (35.334 sec)\n",
      "INFO:tensorflow:global_step/sec: 2.96688\n",
      "INFO:tensorflow:loss = 3.1203165e-06, step = 18501 (33.705 sec)\n",
      "INFO:tensorflow:global_step/sec: 2.982\n",
      "INFO:tensorflow:loss = 3.3437695e-06, step = 18601 (33.535 sec)\n",
      "INFO:tensorflow:global_step/sec: 2.97611\n",
      "INFO:tensorflow:loss = 4.2855336e-06, step = 18701 (33.603 sec)\n",
      "INFO:tensorflow:global_step/sec: 3.10066\n",
      "INFO:tensorflow:loss = 1.808036e-06, step = 18801 (32.249 sec)\n",
      "INFO:tensorflow:global_step/sec: 2.99484\n",
      "INFO:tensorflow:loss = 2.7263525e-06, step = 18901 (33.391 sec)\n",
      "INFO:tensorflow:global_step/sec: 2.95794\n",
      "INFO:tensorflow:loss = 4.0154955e-06, step = 19001 (33.809 sec)\n",
      "INFO:tensorflow:global_step/sec: 2.97548\n",
      "INFO:tensorflow:loss = 9.946233e-07, step = 19101 (33.607 sec)\n",
      "INFO:tensorflow:global_step/sec: 3.0009\n",
      "INFO:tensorflow:loss = 4.151143e-06, step = 19201 (33.323 sec)\n",
      "INFO:tensorflow:Saving checkpoints for 19283 into /tmp/tmplq70z2_r/lstm/model.ckpt.\n",
      "INFO:tensorflow:global_step/sec: 2.98085\n",
      "INFO:tensorflow:loss = 7.0468224e-07, step = 19301 (33.547 sec)\n",
      "INFO:tensorflow:global_step/sec: 3.00103\n",
      "INFO:tensorflow:loss = 1.2119037e-06, step = 19401 (33.322 sec)\n",
      "INFO:tensorflow:global_step/sec: 2.97649\n",
      "INFO:tensorflow:loss = 3.6366043e-06, step = 19501 (33.597 sec)\n",
      "INFO:tensorflow:global_step/sec: 3.03747\n",
      "INFO:tensorflow:loss = 9.332439e-07, step = 19601 (32.921 sec)\n",
      "INFO:tensorflow:global_step/sec: 2.90559\n",
      "INFO:tensorflow:loss = 4.569958e-06, step = 19701 (34.416 sec)\n",
      "INFO:tensorflow:global_step/sec: 2.95741\n",
      "INFO:tensorflow:loss = 1.3850381e-06, step = 19801 (33.814 sec)\n",
      "INFO:tensorflow:global_step/sec: 2.98014\n",
      "INFO:tensorflow:loss = 1.6200466e-06, step = 19901 (33.555 sec)\n",
      "INFO:tensorflow:global_step/sec: 2.86267\n",
      "INFO:tensorflow:loss = 5.5831083e-07, step = 20001 (34.934 sec)\n",
      "INFO:tensorflow:global_step/sec: 2.84976\n",
      "INFO:tensorflow:loss = 1.4043866e-06, step = 20101 (35.090 sec)\n",
      "INFO:tensorflow:global_step/sec: 3.03336\n",
      "INFO:tensorflow:loss = 2.65566e-06, step = 20201 (32.966 sec)\n",
      "INFO:tensorflow:global_step/sec: 3.00925\n",
      "INFO:tensorflow:loss = 2.0703837e-06, step = 20301 (33.231 sec)\n",
      "INFO:tensorflow:global_step/sec: 2.98567\n",
      "INFO:tensorflow:loss = 1.040176e-06, step = 20401 (33.492 sec)\n",
      "INFO:tensorflow:global_step/sec: 2.96183\n",
      "INFO:tensorflow:loss = 8.035212e-07, step = 20501 (33.763 sec)\n",
      "INFO:tensorflow:global_step/sec: 2.99001\n",
      "INFO:tensorflow:loss = 1.2764195e-06, step = 20601 (33.445 sec)\n",
      "INFO:tensorflow:global_step/sec: 3.003\n",
      "INFO:tensorflow:loss = 1.7674631e-06, step = 20701 (33.300 sec)\n",
      "INFO:tensorflow:global_step/sec: 2.95763\n",
      "INFO:tensorflow:loss = 1.0868757e-06, step = 20801 (33.811 sec)\n",
      "INFO:tensorflow:global_step/sec: 3.06448\n",
      "INFO:tensorflow:loss = 1.0962555e-06, step = 20901 (32.632 sec)\n",
      "INFO:tensorflow:global_step/sec: 3.04757\n",
      "INFO:tensorflow:loss = 1.5646597e-06, step = 21001 (32.814 sec)\n",
      "INFO:tensorflow:Saving checkpoints for 21069 into /tmp/tmplq70z2_r/lstm/model.ckpt.\n",
      "INFO:tensorflow:global_step/sec: 2.99875\n",
      "INFO:tensorflow:loss = 7.217891e-07, step = 21101 (33.347 sec)\n",
      "INFO:tensorflow:global_step/sec: 2.99795\n",
      "INFO:tensorflow:loss = 9.919831e-07, step = 21201 (33.356 sec)\n",
      "INFO:tensorflow:global_step/sec: 2.97474\n",
      "INFO:tensorflow:loss = 6.288911e-07, step = 21301 (33.616 sec)\n",
      "INFO:tensorflow:global_step/sec: 3.04881\n"
     ]
    },
    {
     "name": "stdout",
     "output_type": "stream",
     "text": [
      "INFO:tensorflow:loss = 1.5156547e-06, step = 21401 (32.800 sec)\n",
      "INFO:tensorflow:global_step/sec: 2.93142\n",
      "INFO:tensorflow:loss = 1.4895751e-06, step = 21501 (34.114 sec)\n",
      "INFO:tensorflow:global_step/sec: 2.98401\n",
      "INFO:tensorflow:loss = 4.380268e-07, step = 21601 (33.512 sec)\n",
      "INFO:tensorflow:global_step/sec: 2.96073\n",
      "INFO:tensorflow:loss = 1.1010928e-06, step = 21701 (33.775 sec)\n",
      "INFO:tensorflow:global_step/sec: 3.01348\n",
      "INFO:tensorflow:loss = 4.1604676e-07, step = 21801 (33.184 sec)\n",
      "INFO:tensorflow:global_step/sec: 2.93952\n",
      "INFO:tensorflow:loss = 5.603453e-07, step = 21901 (34.021 sec)\n",
      "INFO:tensorflow:global_step/sec: 2.98959\n",
      "INFO:tensorflow:loss = 4.5433273e-07, step = 22001 (33.449 sec)\n",
      "INFO:tensorflow:global_step/sec: 2.99746\n",
      "INFO:tensorflow:loss = 6.4365025e-07, step = 22101 (33.361 sec)\n",
      "INFO:tensorflow:global_step/sec: 3.11375\n",
      "INFO:tensorflow:loss = 1.6425493e-07, step = 22201 (32.115 sec)\n",
      "INFO:tensorflow:global_step/sec: 2.98903\n",
      "INFO:tensorflow:loss = 3.9150166e-07, step = 22301 (33.456 sec)\n",
      "INFO:tensorflow:global_step/sec: 2.99279\n",
      "INFO:tensorflow:loss = 3.1057033e-07, step = 22401 (33.413 sec)\n",
      "INFO:tensorflow:global_step/sec: 2.91898\n",
      "INFO:tensorflow:loss = 4.1976455e-07, step = 22501 (34.258 sec)\n",
      "INFO:tensorflow:global_step/sec: 2.88152\n",
      "INFO:tensorflow:loss = 1.8041015e-07, step = 22601 (34.704 sec)\n",
      "INFO:tensorflow:global_step/sec: 2.98714\n",
      "INFO:tensorflow:loss = 2.0057182e-07, step = 22701 (33.477 sec)\n",
      "INFO:tensorflow:global_step/sec: 2.92715\n",
      "INFO:tensorflow:loss = 1.2782897e-07, step = 22801 (34.163 sec)\n",
      "INFO:tensorflow:Saving checkpoints for 22857 into /tmp/tmplq70z2_r/lstm/model.ckpt.\n",
      "INFO:tensorflow:global_step/sec: 2.94071\n",
      "INFO:tensorflow:loss = 3.9769813e-07, step = 22901 (34.005 sec)\n",
      "INFO:tensorflow:global_step/sec: 2.89056\n",
      "INFO:tensorflow:loss = 2.8282034e-07, step = 23001 (34.595 sec)\n",
      "INFO:tensorflow:global_step/sec: 2.97755\n",
      "INFO:tensorflow:loss = 4.6581962e-07, step = 23101 (33.585 sec)\n",
      "INFO:tensorflow:global_step/sec: 2.99503\n",
      "INFO:tensorflow:loss = 2.843785e-07, step = 23201 (33.389 sec)\n",
      "INFO:tensorflow:global_step/sec: 2.9462\n",
      "INFO:tensorflow:loss = 3.6654274e-07, step = 23301 (33.942 sec)\n",
      "INFO:tensorflow:global_step/sec: 3.05412\n",
      "INFO:tensorflow:loss = 2.4658073e-07, step = 23401 (32.742 sec)\n",
      "INFO:tensorflow:global_step/sec: 2.97478\n",
      "INFO:tensorflow:loss = 3.0648923e-07, step = 23501 (33.616 sec)\n",
      "INFO:tensorflow:global_step/sec: 3.01392\n",
      "INFO:tensorflow:loss = 1.4330546e-07, step = 23601 (33.180 sec)\n",
      "INFO:tensorflow:global_step/sec: 2.98697\n",
      "INFO:tensorflow:loss = 1.16038876e-07, step = 23701 (33.480 sec)\n",
      "INFO:tensorflow:global_step/sec: 2.97026\n",
      "INFO:tensorflow:loss = 1.6575127e-07, step = 23801 (33.665 sec)\n",
      "INFO:tensorflow:global_step/sec: 3.06614\n",
      "INFO:tensorflow:loss = 1.2636197e-07, step = 23901 (32.616 sec)\n",
      "INFO:tensorflow:global_step/sec: 2.99927\n",
      "INFO:tensorflow:loss = 1.5389473e-07, step = 24001 (33.341 sec)\n",
      "INFO:tensorflow:global_step/sec: 2.98621\n",
      "INFO:tensorflow:loss = 2.118e-07, step = 24101 (33.486 sec)\n",
      "INFO:tensorflow:global_step/sec: 2.97016\n",
      "INFO:tensorflow:loss = 1.549999e-07, step = 24201 (33.668 sec)\n",
      "INFO:tensorflow:global_step/sec: 3.0408\n",
      "INFO:tensorflow:loss = 9.771451e-08, step = 24301 (32.886 sec)\n",
      "INFO:tensorflow:global_step/sec: 2.9414\n",
      "INFO:tensorflow:loss = 3.051084e-08, step = 24401 (33.998 sec)\n",
      "INFO:tensorflow:global_step/sec: 2.93927\n",
      "INFO:tensorflow:loss = 1.1855442e-07, step = 24501 (34.022 sec)\n",
      "INFO:tensorflow:global_step/sec: 2.96898\n",
      "INFO:tensorflow:loss = 1.2939718e-07, step = 24601 (33.682 sec)\n",
      "INFO:tensorflow:Saving checkpoints for 24647 into /tmp/tmplq70z2_r/lstm/model.ckpt.\n",
      "INFO:tensorflow:global_step/sec: 3.03743\n",
      "INFO:tensorflow:loss = 1.5515128e-07, step = 24701 (32.923 sec)\n",
      "INFO:tensorflow:global_step/sec: 2.9878\n",
      "INFO:tensorflow:loss = 1.0664225e-07, step = 24801 (33.470 sec)\n",
      "INFO:tensorflow:global_step/sec: 3.00874\n",
      "INFO:tensorflow:loss = 8.564617e-08, step = 24901 (33.235 sec)\n",
      "INFO:tensorflow:Saving checkpoints for 25000 into /tmp/tmplq70z2_r/lstm/model.ckpt.\n",
      "INFO:tensorflow:Loss for final step: 1.2362246e-07.\n",
      "INFO:tensorflow:Calling model_fn.\n",
      "WARNING:tensorflow:Trapezoidal rule is known to produce incorrect PR-AUCs; please switch to \"careful_interpolation\" instead.\n",
      "WARNING:tensorflow:Trapezoidal rule is known to produce incorrect PR-AUCs; please switch to \"careful_interpolation\" instead.\n",
      "INFO:tensorflow:Done calling model_fn.\n",
      "INFO:tensorflow:Starting evaluation at 2019-02-26-10:28:05\n",
      "INFO:tensorflow:Graph was finalized.\n",
      "INFO:tensorflow:Restoring parameters from /tmp/tmplq70z2_r/lstm/model.ckpt-25000\n",
      "INFO:tensorflow:Running local_init_op.\n",
      "INFO:tensorflow:Done running local_init_op.\n",
      "INFO:tensorflow:Finished evaluation at 2019-02-26-10:28:41\n",
      "INFO:tensorflow:Saving dict for global step 25000: accuracy = 0.84316, accuracy_baseline = 0.5, auc = 0.8587901, auc_precision_recall = 0.8896672, average_loss = 2.4395864, global_step = 25000, label/mean = 0.5, loss = 2.4395854, precision = 0.8454538, prediction/mean = 0.49628675, recall = 0.83984\n",
      "INFO:tensorflow:Saving 'checkpoint_path' summary for global step 25000: /tmp/tmplq70z2_r/lstm/model.ckpt-25000\n",
      "INFO:tensorflow:Calling model_fn.\n",
      "INFO:tensorflow:Done calling model_fn.\n",
      "INFO:tensorflow:Graph was finalized.\n",
      "INFO:tensorflow:Restoring parameters from /tmp/tmplq70z2_r/lstm/model.ckpt-25000\n",
      "INFO:tensorflow:Running local_init_op.\n",
      "INFO:tensorflow:Done running local_init_op.\n"
     ]
    }
   ],
   "source": [
    "head = tf.contrib.estimator.binary_classification_head()\n",
    "\n",
    "def lstm_model_fn(features, labels, mode):    \n",
    "    # [batch_size x sentence_size x embedding_size]\n",
    "    inputs = tf.contrib.layers.embed_sequence(\n",
    "        features['x'], vocab_size, embedding_size,\n",
    "        initializer=tf.random_uniform_initializer(-1.0, 1.0))\n",
    "\n",
    "    # create an LSTM cell of size 100\n",
    "    lstm_cell = tf.nn.rnn_cell.BasicLSTMCell(100)\n",
    "    \n",
    "    # create the complete LSTM\n",
    "    _, final_states = tf.nn.dynamic_rnn(\n",
    "        lstm_cell, inputs, sequence_length=features['len'], dtype=tf.float32)\n",
    "\n",
    "    # get the final hidden states of dimensionality [batch_size x sentence_size]\n",
    "    outputs = final_states.h\n",
    "\n",
    "    logits = tf.layers.dense(inputs=outputs, units=1)\n",
    "\n",
    "    # This will be None when predicting\n",
    "    if labels is not None:\n",
    "        labels = tf.reshape(labels, [-1, 1])\n",
    "\n",
    "    optimizer = tf.train.AdamOptimizer()\n",
    "\n",
    "    def _train_op_fn(loss):\n",
    "        return optimizer.minimize(\n",
    "            loss=loss,\n",
    "            global_step=tf.train.get_global_step())\n",
    "\n",
    "    return head.create_estimator_spec(\n",
    "        features=features,\n",
    "        labels=labels,\n",
    "        mode=mode,\n",
    "        logits=logits,\n",
    "        train_op_fn=_train_op_fn)\n",
    "\n",
    "\n",
    "lstm_classifier = tf.estimator.Estimator(model_fn=lstm_model_fn,\n",
    "                                         model_dir=os.path.join(model_dir, 'lstm'))\n",
    "train_and_evaluate(lstm_classifier)"
   ]
  },
  {
   "cell_type": "markdown",
   "metadata": {},
   "source": [
    "<br><br>"
   ]
  },
  {
   "cell_type": "markdown",
   "metadata": {},
   "source": [
    "## Dropout"
   ]
  },
  {
   "cell_type": "markdown",
   "metadata": {},
   "source": [
    "https://arxiv.org/abs/1207.0580"
   ]
  },
  {
   "cell_type": "markdown",
   "metadata": {},
   "source": [
    "<img src='https://habrastorage.org/web/225/c44/513/225c44513c21431399c64cd91a9e2036.png' height='70%' width='70%'>"
   ]
  },
  {
   "cell_type": "markdown",
   "metadata": {},
   "source": [
    "Проблемы:\n",
    "- переобучение\n",
    "- сложность комбинирования большего числа сетей\n",
    "<br><br>"
   ]
  },
  {
   "cell_type": "markdown",
   "metadata": {},
   "source": [
    "<img src='https://cdn-images-1.medium.com/max/800/1*D8jriroKkjno8RztHKmMnA.png'>"
   ]
  },
  {
   "cell_type": "markdown",
   "metadata": {},
   "source": [
    "<img src='data:image/png;base64,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'>"
   ]
  },
  {
   "cell_type": "markdown",
   "metadata": {},
   "source": [
    "В стандартной нейронной сети производная, полученная каждым параметром, сообщает ему, как он должен измениться, чтобы, учитывая деятельность остальных блоков, минимизировать функцию конечных потерь. Поэтому блоки могут меняться, исправляя при этом ошибки других блоков. Это может привести к чрезмерной совместной адаптации (co-adaptation), что, в свою очередь, приводит к переобучению, поскольку эти совместные адаптации невозможно обобщить на данные, не участвовавшие в обучении. Авторы выдвинула гипотезу, что Dropout предотвращает совместную адаптацию для каждого скрытого блока, делая присутствие других скрытых блоков ненадежным. Поэтому скрытый блок не может полагаться на другие блоки в исправлении собственных ошибок."
   ]
  },
  {
   "cell_type": "markdown",
   "metadata": {},
   "source": [
    "<img src='https://raw.githubusercontent.com/fogside/fintech_dev/master/spring_2019/04_rnn_dropout/dropout_usual_nn.PNG?token=AgsinOM2jwZYI38lTJT8vFm5hQ6pFrahks5cf3XZwA%3D%3D'>"
   ]
  },
  {
   "cell_type": "markdown",
   "metadata": {},
   "source": [
    "<img src='https://github.com/fogside/fintech_dev/blob/master/spring_2019/04_rnn_dropout/dropout.PNG?raw=true'>"
   ]
  },
  {
   "cell_type": "markdown",
   "metadata": {},
   "source": [
    "<b>Можно тестировать :)</b>\n",
    "<br><br><br><br>"
   ]
  },
  {
   "cell_type": "markdown",
   "metadata": {},
   "source": [
    "<img src='https://thumbs.gfycat.com/EmbarrassedBoldAvocet-small.gif'>"
   ]
  },
  {
   "cell_type": "markdown",
   "metadata": {},
   "source": [
    "<b>Упс, что-то пошло не так. Но что?</b>\n",
    "<br><br><br><br>"
   ]
  },
  {
   "cell_type": "markdown",
   "metadata": {},
   "source": [
    "<img src='https://raw.githubusercontent.com/fogside/fintech_dev/master/spring_2019/04_rnn_dropout/dropout_test.PNG?token=AgsinGOjd8ZoKF_FbSo2YDKV-ZPvJc6Yks5cf3XYwA%3D%3D'>"
   ]
  },
  {
   "cell_type": "markdown",
   "metadata": {},
   "source": [
    "<img src='https://raw.githubusercontent.com/fogside/fintech_dev/master/spring_2019/04_rnn_dropout/dropout_mnist.PNG?token=AgsinGlklAtZy_kbKz5QIlUL8992SJlpks5cf3XXwA%3D%3D'>"
   ]
  },
  {
   "cell_type": "markdown",
   "metadata": {},
   "source": [
    "Преимущества:\n",
    "- Предотвращает переобучение;\n",
    "- Возможность комбинирования ответов больших нейронных сетей во время тестирования.\n",
    "\n",
    "Недостатки:\n",
    "- Необходимость изменять нейронную сеть для проведения тестирования."
   ]
  },
  {
   "cell_type": "markdown",
   "metadata": {},
   "source": [
    "### Inverted Dropout\n",
    "\n",
    "Идея: умножать функцию активации на коэффициент не во время\n",
    "тестового этапа, а во время обучения.\n",
    "Этап обучение:\n",
    "\\begin{aligned}\n",
    "y^{(l+1)}_i &= f(\\frac{1}{p}w^{(l+1)}_i(r^{(l)} * y^{(l)}) + b^{(l+1)}_i)\n",
    "\\end{aligned}\n",
    "\n",
    "Этап тестирования:\n",
    "\\begin{aligned}\n",
    "y^{(l+1)}_i &= f(w^{(l+1)}_iy^{(l)} + b^{(l+1)}_i)\n",
    "\\end{aligned}"
   ]
  },
  {
   "cell_type": "markdown",
   "metadata": {},
   "source": [
    "## DropConnect "
   ]
  },
  {
   "cell_type": "markdown",
   "metadata": {},
   "source": [
    "<img src='https://i.gifer.com/1g0.gif'>"
   ]
  },
  {
   "cell_type": "markdown",
   "metadata": {},
   "source": [
    "<img src='https://cdn-images-1.medium.com/max/800/1*ZsnVe7r2856hseYhGiYpbg.png'>"
   ]
  },
  {
   "cell_type": "markdown",
   "metadata": {},
   "source": [
    "Dropout:\n",
    "<img src='https://i.stack.imgur.com/CewjH.png'>"
   ]
  },
  {
   "cell_type": "markdown",
   "metadata": {},
   "source": [
    "DropConnect:\n",
    "<img src='https://i.stack.imgur.com/CewjH.png'>"
   ]
  },
  {
   "cell_type": "markdown",
   "metadata": {},
   "source": [
    "<br><br>"
   ]
  },
  {
   "cell_type": "markdown",
   "metadata": {},
   "source": [
    "## Dropout и RNN"
   ]
  },
  {
   "cell_type": "markdown",
   "metadata": {},
   "source": [
    "https://arxiv.org/pdf/1506.02557.pdf"
   ]
  },
  {
   "cell_type": "markdown",
   "metadata": {},
   "source": [
    "<img src='https://cdn-images-1.medium.com/max/800/1*x0Qr982CQMv6lBRgsA9BUw.png'>"
   ]
  }
 ],
 "metadata": {
  "kernelspec": {
   "display_name": "Python 3",
   "language": "python",
   "name": "python3"
  },
  "language_info": {
   "codemirror_mode": {
    "name": "ipython",
    "version": 3
   },
   "file_extension": ".py",
   "mimetype": "text/x-python",
   "name": "python",
   "nbconvert_exporter": "python",
   "pygments_lexer": "ipython3",
   "version": "3.6.8"
  }
 },
 "nbformat": 4,
 "nbformat_minor": 2
}
